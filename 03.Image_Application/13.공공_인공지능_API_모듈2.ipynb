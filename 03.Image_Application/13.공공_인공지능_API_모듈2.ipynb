{
 "cells": [
  {
   "cell_type": "markdown",
   "metadata": {},
   "source": [
    "# 공공 인공지능 API\n",
    "* my_util 라이브러리 이용"
   ]
  },
  {
   "cell_type": "code",
   "execution_count": 18,
   "metadata": {},
   "outputs": [],
   "source": [
    "from glob import glob\n",
    "import matplotlib.pyplot as plt\n",
    "import matplotlib as mpl\n",
    "mpl.rcParams['axes.unicode_minus'] = False\n",
    "plt.rcParams['font.family'] = 'Malgun Gothic'\n",
    "from PIL import Image\n",
    "\n",
    "from my_util import detect_object"
   ]
  },
  {
   "cell_type": "code",
   "execution_count": 19,
   "metadata": {},
   "outputs": [],
   "source": [
    "SUCCESS, FAILURE = 0, -1\n",
    "DIRECTORY_NAME = '검출된객체/'"
   ]
  },
  {
   "cell_type": "code",
   "execution_count": 20,
   "metadata": {},
   "outputs": [],
   "source": [
    "for file in glob('사진/*'):\n",
    "    return_file = DIRECTORY_NAME+file\n",
    "    if detect_object(file, return_file) == SUCCESS:\n",
    "        img = Image.open(return_file)\n",
    "        plt.figure(figsize=(12,8))\n",
    "        plt.imshow(img)\n",
    "        plt.axis('off'), plt.title(return_file.split('\\\\')[-1])\n",
    "        plt.show()"
   ]
  },
  {
   "cell_type": "code",
   "execution_count": null,
   "metadata": {},
   "outputs": [],
   "source": []
  }
 ],
 "metadata": {
  "interpreter": {
   "hash": "b017e1629664627f3d72e65c7f0ce387eb0c91ada4d14b68634786ff7d5b41d8"
  },
  "kernelspec": {
   "display_name": "Python 3.8.8 64-bit ('py388': conda)",
   "language": "python",
   "name": "python3"
  },
  "language_info": {
   "codemirror_mode": {
    "name": "ipython",
    "version": 3
   },
   "file_extension": ".py",
   "mimetype": "text/x-python",
   "name": "python",
   "nbconvert_exporter": "python",
   "pygments_lexer": "ipython3",
   "version": "3.8.8"
  },
  "orig_nbformat": 4
 },
 "nbformat": 4,
 "nbformat_minor": 2
}
